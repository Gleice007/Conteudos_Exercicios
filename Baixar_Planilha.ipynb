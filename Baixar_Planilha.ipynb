{
 "cells": [
  {
   "cell_type": "markdown",
   "id": "12c41518-b4fb-4cdc-a4a0-c1942d23946d",
   "metadata": {},
   "source": [
    "# Desafio - Rotina de Baixar uma Planilha da Web\n",
    ". Imagine que você trabalhe no mercado financeiro e tem que todo dia/semana baixar uma planilha com as cotações do dólar\n",
    ". Usaremps o site investing.com para baixar esses dados\n",
    ". O link onde ficam esses dados é: https://br.investing.com/currencies/usd-brl-historical-data\n",
    ". Escolhemos o site investing.com porque ele é cheio de coisinha chata que vai obrigar a gente a fazer um código completo\n",
    ". Crie uma conta no site antes de começar, é gratuito."
   ]
  },
  {
   "cell_type": "code",
   "execution_count": null,
   "id": "1b09bc18-0191-478c-86e8-f0321ba6ba88",
   "metadata": {},
   "outputs": [],
   "source": [
    "from selenium import webdriver\n",
    "from selenium.webdriver.chrome.service import Service\n",
    "from webdriver_manager.chrome import ChromeDriverManager\n",
    "from selenium.webdriver.common.by import By\n",
    "import time\n",
    "\n",
    "servico = Service(ChromeDriverManager().install())\n",
    "navegador = webdriver.Chrome(service=servico)\n",
    "\n",
    "navegador.get('https://br.investing.com/currencies/usd-brl-historical-data')"
   ]
  },
  {
   "cell_type": "code",
   "execution_count": null,
   "id": "eb031f02-fdb3-4d21-8564-7af0f7901303",
   "metadata": {},
   "outputs": [],
   "source": [
    "navegador.find_element(By.XPATH, '//*[@id=\"__next\"]/header/div[1]/section/div[3]/ul/li[1]/button').click()"
   ]
  },
  {
   "cell_type": "code",
   "execution_count": 62,
   "id": "f2953d90-df17-4a6e-a77b-750c6d815341",
   "metadata": {},
   "outputs": [],
   "source": [
    "navegador.find_element(By.XPATH, '//*[@id=\":rf:\"]/form/button[1]').click()"
   ]
  },
  {
   "cell_type": "code",
   "execution_count": 42,
   "id": "89656d85-c78d-4e30-9469-7a9b7d083931",
   "metadata": {},
   "outputs": [],
   "source": [
    "navegador.find_element(By.XPATH, '//*[@id=\":rf:\"]/form/p/button').click()"
   ]
  },
  {
   "cell_type": "code",
   "execution_count": 66,
   "id": "0d955290-0231-4c71-b606-1bedd059eaa1",
   "metadata": {},
   "outputs": [],
   "source": [
    "#print(navegador.window_handles)\n",
    "navegador.switch_to.window(navegador.window_handles[1])"
   ]
  },
  {
   "cell_type": "code",
   "execution_count": 74,
   "id": "6711ecd0-dc9c-49d1-9c51-2f75c37fcc33",
   "metadata": {},
   "outputs": [],
   "source": [
    "#navegador.find_element(By.XPATH, '//*[@id=\"identifierId\"]').send_keys('gleicielerodrigues57@gmail.com')"
   ]
  },
  {
   "cell_type": "code",
   "execution_count": 76,
   "id": "6c71c7ed-1a4e-44fb-aad5-06e80c76d15b",
   "metadata": {},
   "outputs": [],
   "source": [
    "#navegador.find_element(By.XPATH, '//*[@id=\"identifierNext\"]/div/button').click()"
   ]
  },
  {
   "cell_type": "code",
   "execution_count": 78,
   "id": "0ecc3bf2-4373-4e9c-bdca-830a1c4332dd",
   "metadata": {},
   "outputs": [],
   "source": [
    "#navegador.find_element(By.XPATH, '//*[@id=\"next\"]/div/div/a').click()"
   ]
  },
  {
   "cell_type": "code",
   "execution_count": 80,
   "id": "cfe73c06-abc4-47b9-b151-9496501c8839",
   "metadata": {},
   "outputs": [],
   "source": [
    "navegador.find_element(By.XPATH, '//*[@id=\"yDmH0d\"]/c-wiz/div/div[3]/div/div[2]/div/div/div[1]/div/button').click()"
   ]
  },
  {
   "cell_type": "code",
   "execution_count": 82,
   "id": "d96ab734-2971-45f0-b2db-088b6a90836d",
   "metadata": {},
   "outputs": [],
   "source": [
    "navegador.find_element(By.XPATH, '//*[@id=\"yDmH0d\"]/c-wiz/div/div[3]/div/div[2]/div/div/div[2]/div/ul/li[1]/span[3]').click()"
   ]
  }
 ],
 "metadata": {
  "kernelspec": {
   "display_name": "Python 3 (ipykernel)",
   "language": "python",
   "name": "python3"
  },
  "language_info": {
   "codemirror_mode": {
    "name": "ipython",
    "version": 3
   },
   "file_extension": ".py",
   "mimetype": "text/x-python",
   "name": "python",
   "nbconvert_exporter": "python",
   "pygments_lexer": "ipython3",
   "version": "3.12.4"
  }
 },
 "nbformat": 4,
 "nbformat_minor": 5
}
