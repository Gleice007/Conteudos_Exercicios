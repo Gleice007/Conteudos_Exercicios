{
 "cells": [
  {
   "cell_type": "markdown",
   "id": "1b433e7f-93d4-4fcc-af42-f9fdf3e3dfa9",
   "metadata": {},
   "source": [
    "# for + if\n",
    "## Estrutura:"
   ]
  },
  {
   "cell_type": "markdown",
   "id": "b87d8a6d-1d9a-4e75-a242-4425f3c20d32",
   "metadata": {},
   "source": [
    "for item in lista:\n",
    "    if condicao:\n",
    "        faça alguma coisa\n",
    "    else:\n",
    "        outra coisa"
   ]
  },
  {
   "cell_type": "markdown",
   "id": "b4f7e310-c8f6-4c26-af5a-075b08da843c",
   "metadata": {},
   "source": [
    "Digamos que a gente esteja analisando a meta de vendas de vários funcionários de uma empresa. A meta de vendas\n",
    "é de 1000 reais em 1 dias. Temos uma lista com as vendas de todos os funcionários e quero calcular\n",
    "qual o % de pessoas que bateram a meta."
   ]
  },
  {
   "cell_type": "code",
   "execution_count": 23,
   "id": "bdb18290-bdcd-4fad-9680-42f10a139b79",
   "metadata": {},
   "outputs": [
    {
     "name": "stdout",
     "output_type": "stream",
     "text": [
      "O percentual de pessoas que bateram a meta foi de 26%\n"
     ]
    }
   ],
   "source": [
    "vendas = [1200, 300, 800, 1500, 1900, 2750, 400, 20, 23, 70, 90, 80, 1100, 999, 900, 880, 870, 50, 1111, 120, 300, 450, 800]\n",
    "meta = 1000\n",
    "contador_metas = 0\n",
    "for venda in vendas:\n",
    "    if venda >= meta:\n",
    "        contador_metas += 1\n",
    "qntd_funcionarios = len(vendas)        \n",
    "print('O percentual de pessoas que bateram a meta foi de {:.0%}'.format(contador_metas / qntd_funcionarios))"
   ]
  },
  {
   "cell_type": "markdown",
   "id": "ae258c7f-c486-49a0-980e-fc2e2113070a",
   "metadata": {},
   "source": [
    "# For \"each\"\n",
    "## Estrutura:\n",
    "O for no Python consegue percorrer uma lista e a cada \"loop\" retorna o valor do item."
   ]
  },
  {
   "cell_type": "markdown",
   "id": "58b0f8ce-188d-4e99-9f5d-b3c081e3f7dc",
   "metadata": {},
   "source": [
    "for i in ranger(5):\n",
    "    print(i)\n",
    "range(5) é na verdade uma lista do tipo: [0, 1, 2, 3, 4]    "
   ]
  },
  {
   "cell_type": "markdown",
   "id": "1a5857eb-51b8-41c4-ace5-0c92c6350db5",
   "metadata": {},
   "source": [
    "# Usando para listas:"
   ]
  },
  {
   "cell_type": "markdown",
   "id": "63da4fd7-4b85-4ab8-952d-414ee7d484f8",
   "metadata": {},
   "source": [
    "for item in lista:\n",
    "    print(item)\n",
    "ou então para string:\n",
    "for ch in texto:\n",
    "    print(ch)"
   ]
  },
  {
   "cell_type": "code",
   "execution_count": 7,
   "id": "3ed65001-8e9c-42f8-81be-9ddae5925c8f",
   "metadata": {},
   "outputs": [
    {
     "name": "stdout",
     "output_type": "stream",
     "text": [
      "coca\n",
      "pepsi\n",
      "guarana\n",
      "sprite\n",
      "fanta\n"
     ]
    }
   ],
   "source": [
    "produtos = ['coca', 'pepsi', 'guarana', 'sprite', 'fanta']\n",
    "texto = 'gleicepag31@gmail.com'\n",
    "\n",
    "for i in range(5):\n",
    "    print(produtos[i])"
   ]
  },
  {
   "cell_type": "code",
   "execution_count": 19,
   "id": "f13e3438-da47-4af1-a773-fc7d5a6c2495",
   "metadata": {},
   "outputs": [
    {
     "name": "stdout",
     "output_type": "stream",
     "text": [
      "O item é coca\n",
      "O item é pepsi\n",
      "O item é guarana\n",
      "O item é sprite\n",
      "O item é fanta\n",
      "g\n",
      "l\n",
      "e\n",
      "i\n",
      "c\n",
      "e\n",
      "p\n",
      "a\n",
      "g\n",
      "3\n",
      "1\n",
      "@\n",
      "g\n",
      "m\n",
      "a\n",
      "i\n",
      "l\n",
      ".\n",
      "c\n",
      "o\n",
      "m\n"
     ]
    }
   ],
   "source": [
    "produtos = ['coca', 'pepsi', 'guarana', 'sprite', 'fanta']\n",
    "texto = 'gleicepag31@gmail.com'\n",
    "\n",
    "for item in produtos:\n",
    "    print('O item é {}'.format(item))\n",
    "\n",
    "for ch in texto:\n",
    "    print(ch)"
   ]
  },
  {
   "cell_type": "code",
   "execution_count": null,
   "id": "51284590-6c33-466f-b425-34d23aba4886",
   "metadata": {},
   "outputs": [],
   "source": []
  }
 ],
 "metadata": {
  "kernelspec": {
   "display_name": "Python 3 (ipykernel)",
   "language": "python",
   "name": "python3"
  },
  "language_info": {
   "codemirror_mode": {
    "name": "ipython",
    "version": 3
   },
   "file_extension": ".py",
   "mimetype": "text/x-python",
   "name": "python",
   "nbconvert_exporter": "python",
   "pygments_lexer": "ipython3",
   "version": "3.12.4"
  }
 },
 "nbformat": 4,
 "nbformat_minor": 5
}
