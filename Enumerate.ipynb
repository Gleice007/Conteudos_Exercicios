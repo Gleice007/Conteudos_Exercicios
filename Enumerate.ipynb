{
 "cells": [
  {
   "cell_type": "markdown",
   "id": "73276472-754b-4961-a03f-545de8d95773",
   "metadata": {},
   "source": [
    "# Enumerate\n",
    "## Estrutura:\n",
    "O enumerate permite que você percorra uma lista e ao mesmo tempo tenha em uma variavel o índice daquele item.\n",
    "\n",
    ". for normalmente"
   ]
  },
  {
   "cell_type": "markdown",
   "id": "3322094c-9193-4ede-8e0f-b9fae43c35a0",
   "metadata": {},
   "source": [
    "for item in lista:\n",
    "    resto do código"
   ]
  },
  {
   "cell_type": "code",
   "execution_count": 4,
   "id": "5756c719-d1a9-47f9-9101-63284552f9c3",
   "metadata": {},
   "outputs": [
    {
     "name": "stdout",
     "output_type": "stream",
     "text": [
      "Maria\n",
      "José\n",
      "Antônio\n",
      "João\n",
      "Francisco\n",
      "Ana\n",
      "Luiz\n",
      "Paulo\n",
      "Carlos\n",
      "Manoel\n",
      "Pedro\n"
     ]
    }
   ],
   "source": [
    "funcionarios = ['Maria', 'José', 'Antônio', 'João', 'Francisco', 'Ana', 'Luiz', 'Paulo', 'Carlos', 'Manoel', 'Pedro']\n",
    "for funcionario in funcionarios:\n",
    "    print(funcionario)"
   ]
  },
  {
   "cell_type": "markdown",
   "id": "ef80e4b4-c98a-4783-a361-26da6b9e07f7",
   "metadata": {},
   "source": [
    "for i, item in enumerate(lista):\n",
    "    resto do código"
   ]
  },
  {
   "cell_type": "code",
   "execution_count": 7,
   "id": "ec5bc1f0-e17f-4a81-878d-9b74ae8a5dcb",
   "metadata": {},
   "outputs": [
    {
     "name": "stdout",
     "output_type": "stream",
     "text": [
      "0 é o funcionario Maria\n",
      "1 é o funcionario José\n",
      "2 é o funcionario Antônio\n",
      "3 é o funcionario João\n",
      "4 é o funcionario Francisco\n",
      "5 é o funcionario Ana\n",
      "6 é o funcionario Luiz\n",
      "7 é o funcionario Paulo\n",
      "8 é o funcionario Carlos\n",
      "9 é o funcionario Manoel\n",
      "10 é o funcionario Pedro\n"
     ]
    }
   ],
   "source": [
    "funcionarios = ['Maria', 'José', 'Antônio', 'João', 'Francisco', 'Ana', 'Luiz', 'Paulo', 'Carlos', 'Manoel', 'Pedro']\n",
    "\n",
    "for i, funcionario in enumerate(funcionarios):\n",
    "    print('{} é o funcionario {}'.format(i, funcionario))"
   ]
  },
  {
   "cell_type": "markdown",
   "id": "9d37f4d9-887f-4d9a-83a7-a5a4fb2d64c2",
   "metadata": {},
   "source": [
    "# Exemplo Prático\n",
    "Vamos pegar um exemplo de nivel mínimo de estoque. Em uma fabrica você tem vários produtos e não pode deixar que os produtos\n",
    "fiquem em alta. Para isso, foi definido uma quantidade mínima de estoque que os produtos precisam ter:\n",
    "\n",
    "Identifique quais produtos estão abaixo do nível mínimo de estoque."
   ]
  },
  {
   "cell_type": "code",
   "execution_count": 16,
   "id": "54ae18e7-e237-4d69-a8e0-4ae57a3ed209",
   "metadata": {},
   "outputs": [
    {
     "name": "stdout",
     "output_type": "stream",
     "text": [
      "dolly está abaixo do nível mínimo. Temos apenas 20 unidades\n",
      "red bull está abaixo do nível mínimo. Temos apenas 23 unidades\n"
     ]
    }
   ],
   "source": [
    "estoque = [1200, 300, 800, 1500, 1900, 2750, 400, 20, 23, 70, 90, 80, 1100, 999, 900, 880, 870, 50, 1111, 120, 300, 450, 800]\n",
    "produtos = ['coca', 'pepsi', 'guarana', 'skol', 'brahma', 'agua', 'del valle', 'dolly', 'red bull', 'cachaça', 'vinho']\n",
    "nivel_minimo = 50\n",
    "\n",
    "for i, qtde in enumerate(estoque):\n",
    "    if qtde < nivel_minimo:\n",
    "        print('{} está abaixo do nível mínimo. Temos apenas {} unidades'.format(produtos[i], qtde))"
   ]
  },
  {
   "cell_type": "markdown",
   "id": "edd5a2df-7b3a-4bac-a604-bb9b557c8d79",
   "metadata": {},
   "source": [
    "# Exercícios\n",
    "## 1. Criando um Registro de Hóspedes\n",
    "\n",
    "Digamos que você está criando o sistema para registrar a chegada de hóspedes em um hotel. No hotel, os hóspedes podem ter\n",
    "quartos com 1,2,3 e 4 pessoas. Seu sistema deve conseguir:\n",
    "\n",
    "1. Identifique quantas pessoas o hóspede que acabou de chegar vai ter no quarto (perguntando por meio de input)\n",
    "2. De acordo com a quantidade de pessoas do hóspede, ele deve fazer um for para perguntar o cpf e o nome de cada pessoas, a fim de registra-la\n",
    "no quarto (2 inputs para cada pessoa, 1 para o cpf e outro para o nome)\n",
    "3. O seu programa então deve gerar uma lista com todas as pessoas que ficarão no quarto em cada item dessa lista é o nome da pessoa\n",
    "e o cpf da pessoa, assim:"
   ]
  },
  {
   "cell_type": "markdown",
   "id": "ccb3af95-d582-4618-bed9-1249893cb433",
   "metadata": {},
   "source": [
    "quarto = [\n",
    "['joão', 'cpf:000000000000']\n",
    "['joão', 'cpf:000000000000']\n",
    "['joão', 'cpf:000000000000']\n",
    "['joão', 'cpf:000000000000']\n"
   ]
  },
  {
   "cell_type": "markdown",
   "id": "d7c7b734-8ed1-472e-9b0a-af844c997b7c",
   "metadata": {},
   "source": [
    ". Para simplificar, não vamos nos preocupar com possibilidades de \"tentar colocar mais de 1 hóspede, digitar o cpf errado, etc. Nosso \n",
    "objetivo é treinar a criação de uma rotina de cadastro"
   ]
  },
  {
   "cell_type": "code",
   "execution_count": 7,
   "id": "2a48c9c4-c46e-4ac6-b09f-3bb73b2e5293",
   "metadata": {},
   "outputs": [
    {
     "name": "stdin",
     "output_type": "stream",
     "text": [
      "Quantas pessoas terão no quarto? 3\n",
      "Qual o nome? gleice\n",
      "Qual o seu cpf? 10214596875\n",
      "Qual o nome? paulo\n",
      "Qual o seu cpf? 85602179430\n",
      "Qual o nome? pedro\n",
      "Qual o seu cpf? 74856302147\n"
     ]
    },
    {
     "name": "stdout",
     "output_type": "stream",
     "text": [
      "[['gleice', 'cpf:10214596875'], ['paulo', 'cpf:85602179430'], ['pedro', 'cpf:74856302147']]\n"
     ]
    }
   ],
   "source": [
    "qtde_pessoas = int(input('Quantas pessoas terão no quarto?'))\n",
    "quarto = []\n",
    "\n",
    "for i in range(qtde_pessoas):\n",
    "    nome = input('Qual o nome?')\n",
    "    cpf = input('Qual o seu cpf?')\n",
    "    hospede = [nome, 'cpf:{}'.format(cpf)]\n",
    "    quarto.append(hospede)\n",
    "    \n",
    "print(quarto)"
   ]
  },
  {
   "cell_type": "markdown",
   "id": "ef74213a-57cd-4ec3-9c73-d7b14680838b",
   "metadata": {},
   "source": [
    "# 2. Análise de Vendas\n",
    "Nesse exercício vamos fazer uma \"análise simples\" de atingimento de meta.\n",
    "Temos uma lista com os vendedores e os valores de vendas e queremos identificar (printar) quais os vendedores\n",
    "que bateram a meta e qual foi o valor que eles venderam."
   ]
  },
  {
   "cell_type": "code",
   "execution_count": 14,
   "id": "3cc26dd2-9d63-4e32-a6b1-42ba5668e6b0",
   "metadata": {},
   "outputs": [
    {
     "name": "stdout",
     "output_type": "stream",
     "text": [
      "Vendedor João bateu a meta. Fez 15000 vendas\n",
      "Vendedor Julia bateu a meta. Fez 27000 vendas\n",
      "Vendedor Ana bateu a meta. Fez 10300 vendas\n"
     ]
    }
   ],
   "source": [
    "meta = 10000\n",
    "vendas = [\n",
    "    ['João', 15000],\n",
    "    ['Julia', 27000],\n",
    "    ['Marcus', 9900],\n",
    "    ['Maria', 3750],\n",
    "    ['Ana', 10300],\n",
    "    ['Alon', 7870],\n",
    "]\n",
    "\n",
    "for item in vendas:\n",
    "    if item[1] >= meta:\n",
    "        print('Vendedor {} bateu a meta. Fez {} vendas'.format(item[0], item[1]))"
   ]
  },
  {
   "cell_type": "markdown",
   "id": "64de9012-3f0f-4615-9779-d2aa901861c2",
   "metadata": {},
   "source": [
    "# 3. Comparação com Ano Anterior\n",
    "Digamos que você está analisando as vendas de produtos de um ecommerce e quer identificar quais produtos tiveram no \n",
    "ano de 2020 mais vendas do que no ano de 2019, para reportar isso para a dirétoria.\n",
    "\n",
    "Sua resposta pode ser um print de cada produto, qual foi a venda de 2019, a venda de 2020 e o % de crescimento de 2020 para 2019.\n",
    "\n",
    "Lembrando, para calcular o % de crescimento de um produto de um ano para o outro, podemos fazer: (vendas_produto2020/vendas_produto2019 - 1)\n",
    "\n",
    "Dica: lembre do enumerate, ele pode facilitar seu \"for\""
   ]
  },
  {
   "cell_type": "code",
   "execution_count": 21,
   "id": "ef084a86-115a-46bc-8d72-ce95c6016af5",
   "metadata": {},
   "outputs": [
    {
     "name": "stdout",
     "output_type": "stream",
     "text": [
      "iphone vendeu R$558,147 em 2019, R$951,642 em 2020 e teve 70.5% de crescimento\n",
      "tv vendeu R$405,252 em 2019, R$787,604 em 2020 e teve 94.3% de crescimento\n",
      "maquina de café vendeu R$718,654 em 2019, R$867,660 em 2020 e teve 20.7% de crescimento\n",
      "notebook dell vendeu R$422,760 em 2019, R$694,913 em 2020 e teve 64.4% de crescimento\n",
      "notebook hp vendeu R$154,753 em 2019, R$539,704 em 2020 e teve 248.8% de crescimento\n",
      "microsoft surface vendeu R$438,508 em 2019, R$667,179 em 2020 e teve 52.1% de crescimento\n",
      "webcam vendeu R$237,467 em 2019, R$295,633 em 2020 e teve 24.5% de crescimento\n",
      "caixa de som vendeu R$489,705 em 2019, R$725,316 em 2020 e teve 48.1% de crescimento\n",
      "microfone vendeu R$328,311 em 2019, R$644,622 em 2020 e teve 96.3% de crescimento\n",
      "câmera canon vendeu R$591,120 em 2019, R$994,303 em 2020 e teve 68.2% de crescimento\n"
     ]
    }
   ],
   "source": [
    "produtos = ['iphone', 'galaxy', 'ipad', 'tv', 'maquina de café', 'kindle', 'geladeira', 'adega', 'notebook dell', 'notebook hp', 'notebook asus', 'microsoft surface', 'webcam', 'caixa de som', 'microfone', 'câmera canon']\n",
    "vendas2019 = [558147, 712350, 573823, 405252, 718654, 531580, 973139, 892292, 422760, 154753, 887061, 438508, 237467, 489705, 328311, 591120]\n",
    "vendas2020 = [951642, 244295, 26964, 787604, 867660, 78830, 710331, 646016, 694913, 539704, 324831, 667179, 295633, 725316, 644622, 994303] \n",
    "\n",
    "for i, produto in enumerate(produtos):\n",
    "    if  vendas2020[i] > vendas2019[i]:\n",
    "        crescimento = vendas2020[i] / vendas2019[i] - 1\n",
    "        print('{} vendeu R${:,} em 2019, R${:,} em 2020 e teve {:.1%} de crescimento'.format(produto, vendas2019[i], vendas2020[i], crescimento))"
   ]
  },
  {
   "cell_type": "code",
   "execution_count": null,
   "id": "c34be0a8-af99-491a-9837-c91eecd8f7ec",
   "metadata": {},
   "outputs": [],
   "source": []
  }
 ],
 "metadata": {
  "kernelspec": {
   "display_name": "Python 3 (ipykernel)",
   "language": "python",
   "name": "python3"
  },
  "language_info": {
   "codemirror_mode": {
    "name": "ipython",
    "version": 3
   },
   "file_extension": ".py",
   "mimetype": "text/x-python",
   "name": "python",
   "nbconvert_exporter": "python",
   "pygments_lexer": "ipython3",
   "version": "3.12.4"
  }
 },
 "nbformat": 4,
 "nbformat_minor": 5
}
