{
 "cells": [
  {
   "cell_type": "markdown",
   "id": "422362e5-27b8-43f1-9990-4fef0a3ce5ec",
   "metadata": {},
   "source": [
    "Exercício do Módulo 1 - Operações, Variáveis e Input\r\n",
    "\r\n",
    "Parte 1 -Operações e Variáveis\r\n",
    "\r\n",
    "Crie um programa que imprima (print) os principais indicadores da loja Hashtag&Drink no último ano. Obs: faça tudo usando variáveis.\r\n",
    "\r\n",
    "valores do último ano:\r\n",
    "\r\n",
    "Quantidade de Vendas de Coca = 150 Quantidade de Vendas de Pepsi = 130 Preço Unitário da Coca = 1,50 Preço Unitário da Pepsi = 1,50 Custo da loja: 2.500,00\r\n",
    "\r\n",
    "Use o bloco abaixo para criar todas as variáveis que precisa"
   ]
  }
 ],
 "metadata": {
  "kernelspec": {
   "display_name": "Python 3 (ipykernel)",
   "language": "python",
   "name": "python3"
  },
  "language_info": {
   "codemirror_mode": {
    "name": "ipython",
    "version": 3
   },
   "file_extension": ".py",
   "mimetype": "text/x-python",
   "name": "python",
   "nbconvert_exporter": "python",
   "pygments_lexer": "ipython3",
   "version": "3.12.4"
  }
 },
 "nbformat": 4,
 "nbformat_minor": 5
}
