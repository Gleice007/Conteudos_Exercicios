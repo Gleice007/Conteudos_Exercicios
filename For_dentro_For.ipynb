{
 "cells": [
  {
   "cell_type": "markdown",
   "id": "e9944868-bec6-4385-8a44-d6e3e9a05606",
   "metadata": {},
   "source": [
    "# For dentro de For\n",
    "Quando temos listas dentro de listas, ás vezes precisamos fazer um \"for dentro de for\""
   ]
  },
  {
   "cell_type": "code",
   "execution_count": null,
   "id": "9bcf3978-459a-4ec4-86d7-baa3fae59e9d",
   "metadata": {},
   "outputs": [],
   "source": [
    "for item in lista:\n",
    "    for item2 in lista2:\n",
    "        codigo aqui"
   ]
  },
  {
   "cell_type": "markdown",
   "id": "c1b62ea2-c4f3-4a49-b441-889d2a9dd657",
   "metadata": {},
   "source": [
    "Vamos pegar um exemplo de nível mínimo de estoque. em uma fábrica você tem vários produtos e não pode deixar que os produtos\n",
    "fiquem em falta. Para isso, foi definido uma quantidade mínima de estoque que os produtos precisam ter:\n",
    "\n",
    "Identifique quais fábricas tem algum produto abaixo do nível de estoque\n",
    "\n",
    " . Agora ao invés de analisar o estoque de apenas 1 fábrica, vamos analisar o estoque de várias fábricas"
   ]
  },
  {
   "cell_type": "code",
   "execution_count": 1,
   "id": "2762198d-11fb-4b61-b60e-cb38e9cf979f",
   "metadata": {},
   "outputs": [
    {
     "name": "stdout",
     "output_type": "stream",
     "text": [
      "['Lira Manufacturing', 'Fábrica Hashtag', 'Python Manufaturas']\n"
     ]
    }
   ],
   "source": [
    "estoque = [\n",
    "    [294, 125, 269, 208, 783, 852, 259, 371, 47, 102, 386, 87, 685, 686, 697, 941, 163, 631, 7, 714, 218, 670, 453],\n",
    "    [648, 816, 310, 555, 992, 643, 226, 319, 501, 23, 239, 42, 372, 441, 126, 645, 927, 911, 761, 445, 974, 2, 549],\n",
    "    [832, 683, 784, 449, 977, 705, 198, 937, 729, 327, 339, 10, 975, 310, 95, 689, 137, 795, 211, 538, 933, 751, 522],\n",
    "    [837, 168, 570, 397, 53, 297, 966, 714, 72, 737, 259, 629, 625, 469, 922, 305, 782, 243, 841, 848, 372, 621, 362],\n",
    "    [429, 242, 53, 985, 406, 186, 198, 50, 501, 870, 781, 632, 781, 105, 644, 509, 401, 88, 961, 765, 422, 340, 654],\n",
    "]\n",
    "\n",
    "fabricas = ['Lira Manufacturing', 'Fábrica Hashtag', 'Python Manufaturas', 'Produções e Cia', 'Manufatura e Cia']\n",
    "nivel_minimo = 50\n",
    "fabricas_abaixo_nivel = []\n",
    "\n",
    "for i, lista in enumerate(estoque):\n",
    "    for qtde in lista:\n",
    "        if qtde < nivel_minimo:\n",
    "            if fabricas[i] in fabricas_abaixo_nivel:\n",
    "                pass\n",
    "            else:\n",
    "                fabricas_abaixo_nivel.append(fabricas[i])\n",
    "print(fabricas_abaixo_nivel)               "
   ]
  },
  {
   "cell_type": "markdown",
   "id": "c3e013cc-d9c5-42d2-af20-11067faad6a4",
   "metadata": {},
   "source": [
    "# Exercícios\n",
    "\n",
    "# 1. Calculando % de uma lista\n",
    "\n",
    "Faremos algo parecido com \"filtrar\" uma lista. Mais pra frente no curso aprenderemos outras formas de fazer isso, mas com o nosso\n",
    "conhecimentos atual já conseguimos resolver o desafio.\n",
    "\n",
    "Digamos que a gente tenha uma lista de vendedores e ao invés de saber todos os vendedores que bateram a meta, eu quero\n",
    "conseguir calcular o % de vendedores que bateram a meta. Ou seja, se temos 10 vendedores e 3 bateram a meta, temos 30% dos\n",
    "vendedores que bateram a meta."
   ]
  },
  {
   "cell_type": "code",
   "execution_count": 36,
   "id": "3a74fc9a-f43b-4f97-8c13-46689e7d11e3",
   "metadata": {},
   "outputs": [],
   "source": [
    "meta = 10000\n",
    "vendas = [\n",
    "    ['joao', 15000],\n",
    "    ['Julia', 27000],\n",
    "    ['Marcus', 9900],\n",
    "    ['Maria', 3750],\n",
    "    ['Ana', 103000],\n",
    "    ['Alon', 7870],\n",
    "]"
   ]
  },
  {
   "cell_type": "markdown",
   "id": "b057414d-83e6-41db-9d3b-aba481b5671b",
   "metadata": {},
   "source": [
    ".Vamos resolver de 2 formas:\n",
    "    1. Criando uma lista auxiliar apenas com os vendedores que bateram a meta \n",
    "    2. Fazendo o cálculo diretamente na lista que já temos"
   ]
  },
  {
   "cell_type": "code",
   "execution_count": 32,
   "id": "799e5bd2-eed0-408b-a060-dfdbfce55f7a",
   "metadata": {},
   "outputs": [
    {
     "name": "stdout",
     "output_type": "stream",
     "text": [
      "[['joao', 15000], ['Julia', 27000], ['Ana', 103000]]\n",
      "50% dos vendedores bateram a meta\n"
     ]
    }
   ],
   "source": [
    "acima_meta = []\n",
    "\n",
    "for venda in vendas:\n",
    "    if venda[1] >= meta:\n",
    "        acima_meta.append(venda)\n",
    "print(acima_meta)\n",
    "print('{:.0%} dos vendedores bateram a meta'.format(len(acima_meta) / len(vendas)))"
   ]
  },
  {
   "cell_type": "code",
   "execution_count": 44,
   "id": "97be33c7-95f0-41a7-bafa-ce1069e03a1d",
   "metadata": {},
   "outputs": [
    {
     "name": "stdout",
     "output_type": "stream",
     "text": [
      "50% dos vendedores bateram a meta\n"
     ]
    }
   ],
   "source": [
    "qtde_vendedores_acima = 0\n",
    "\n",
    "for venda in vendas:\n",
    "    if venda[1] >= meta:\n",
    "        qtde_vendedores_acima += 1\n",
    "        \n",
    "print('{:.0%} dos vendedores bateram a meta'.format(qtde_vendedores_acima / len(vendas)))"
   ]
  },
  {
   "cell_type": "code",
   "execution_count": null,
   "id": "b769716e-a4b1-491f-beda-08e54cee75b1",
   "metadata": {},
   "outputs": [],
   "source": []
  }
 ],
 "metadata": {
  "kernelspec": {
   "display_name": "Python 3 (ipykernel)",
   "language": "python",
   "name": "python3"
  },
  "language_info": {
   "codemirror_mode": {
    "name": "ipython",
    "version": 3
   },
   "file_extension": ".py",
   "mimetype": "text/x-python",
   "name": "python",
   "nbconvert_exporter": "python",
   "pygments_lexer": "ipython3",
   "version": "3.12.4"
  }
 },
 "nbformat": 4,
 "nbformat_minor": 5
}
